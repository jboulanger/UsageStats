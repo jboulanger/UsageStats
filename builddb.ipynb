{
 "cells": [
  {
   "cell_type": "markdown",
   "metadata": {},
   "source": [
    "# Build the database from calendars"
   ]
  },
  {
   "cell_type": "code",
   "execution_count": 1,
   "metadata": {},
   "outputs": [],
   "source": [
    "%load_ext autoreload\n",
    "%autoreload 2"
   ]
  },
  {
   "cell_type": "code",
   "execution_count": 2,
   "metadata": {},
   "outputs": [],
   "source": [
    "from pathlib import Path\n",
    "import pandas as pd\n",
    "\n",
    "folder = Path('/media/group_share/Admin/Usage Stats/2023/')\n",
    "booking_types = ['default','service', 'maintenance', 'training']\n",
    "divisions = ['Unknown','Cell Biology','Neurobiology','PNAS','Structural Studies','University']\n",
    "groups = pd.read_csv(folder/'groups.csv')\n",
    "users = pd.read_csv(folder/'users.csv')\n",
    "db_file = 'bookings.db'\n",
    "file_list = [x for x in (folder/'microscope calendars').glob('*.ics')]"
   ]
  },
  {
   "cell_type": "code",
   "execution_count": 3,
   "metadata": {},
   "outputs": [
    {
     "name": "stdout",
     "output_type": "stream",
     "text": [
      "error in events UNIQUE constraint failed: events.instrument_id, events.start\n",
      "error in events UNIQUE constraint failed: events.instrument_id, events.start\n",
      "error in events UNIQUE constraint failed: events.instrument_id, events.start\n"
     ]
    }
   ],
   "source": [
    "from usagestats.bookingdb import BookingDB\n",
    "\n",
    "with BookingDB(db_file) as bookings:\n",
    "    bookings.create_instruments(file_list)\n",
    "    bookings.create_booking_types(booking_types)\n",
    "    bookings.create_division(divisions)\n",
    "    bookings.create_groups(groups)\n",
    "    bookings.create_events()\n",
    "    df = bookings.update_users_group_from_df(users)\n",
    "\n"
   ]
  },
  {
   "cell_type": "code",
   "execution_count": null,
   "metadata": {},
   "outputs": [],
   "source": [
    "curl 'https://mercury.mrc-lmb.cam.ac.uk/ical' --compressed -H 'User-Agent: Mozilla/5.0 (X11; Ubuntu; Linux x86_64; rv:131.0) Gecko/20100101 Firefox/131.0' -H 'Accept: text/html,application/xhtml+xml,application/xml;q=0.9,image/avif,image/webp,image/png,image/svg+xml,*/*;q=0.8' -H 'Accept-Language: en-GB,en;q=0.5' -H 'Accept-Encoding: gzip, deflate, br, zstd' -H 'DNT: 1' -H 'Sec-GPC: 1' -H 'Connection: keep-alive' -H 'Referer: https://mercury.mrc-lmb.cam.ac.uk/integration/linux.html?lang=en' -H 'Cookie: SESSION_CONNECT_WEBMAIL=c3667fe143e2dc76a30611b1072880b836143257f462f6a750e324fdef164259; TOKEN_CONNECT_WEBMAIL=f00b0c6e465aedc5468903660dc514453fcd40ed976cb95f506dfc6f5b3eef14' -H 'Upgrade-Insecure-Requests: 1' -H 'Sec-Fetch-Dest: document' -H 'Sec-Fetch-Mode: navigate' -H 'Sec-Fetch-Site: same-origin' -H 'Sec-Fetch-User: ?1' -H 'Priority: u=0, i'"
   ]
  },
  {
   "cell_type": "code",
   "execution_count": null,
   "metadata": {},
   "outputs": [],
   "source": [
    "users"
   ]
  },
  {
   "cell_type": "code",
   "execution_count": null,
   "metadata": {},
   "outputs": [],
   "source": [
    "#users = pd.read_csv(folder/'users.csv')\n",
    "with BookingDB(db_file) as bookings:\n",
    "    t = bookings.get_booking_type('ahf')\n",
    "type(t)"
   ]
  },
  {
   "cell_type": "code",
   "execution_count": null,
   "metadata": {},
   "outputs": [],
   "source": [
    "users['User'][0]"
   ]
  },
  {
   "cell_type": "code",
   "execution_count": 5,
   "metadata": {},
   "outputs": [
    {
     "data": {
      "text/html": [
       "<div>\n",
       "<style scoped>\n",
       "    .dataframe tbody tr th:only-of-type {\n",
       "        vertical-align: middle;\n",
       "    }\n",
       "\n",
       "    .dataframe tbody tr th {\n",
       "        vertical-align: top;\n",
       "    }\n",
       "\n",
       "    .dataframe thead th {\n",
       "        text-align: right;\n",
       "    }\n",
       "</style>\n",
       "<table border=\"1\" class=\"dataframe\">\n",
       "  <thead>\n",
       "    <tr style=\"text-align: right;\">\n",
       "      <th></th>\n",
       "      <th>name</th>\n",
       "      <th>group</th>\n",
       "    </tr>\n",
       "  </thead>\n",
       "  <tbody>\n",
       "    <tr>\n",
       "      <th>0</th>\n",
       "      <td>Silvia Benito-Kwiecinski</td>\n",
       "      <td>Unknown</td>\n",
       "    </tr>\n",
       "    <tr>\n",
       "      <th>1</th>\n",
       "      <td>Nick Barry</td>\n",
       "      <td>Light Microscopy</td>\n",
       "    </tr>\n",
       "    <tr>\n",
       "      <th>2</th>\n",
       "      <td>Ben Ravenhill</td>\n",
       "      <td>Unknown</td>\n",
       "    </tr>\n",
       "    <tr>\n",
       "      <th>3</th>\n",
       "      <td>Isabel Beets</td>\n",
       "      <td>Unknown</td>\n",
       "    </tr>\n",
       "    <tr>\n",
       "      <th>4</th>\n",
       "      <td>Marios Chatzigeorgiou</td>\n",
       "      <td>Unknown</td>\n",
       "    </tr>\n",
       "    <tr>\n",
       "      <th>...</th>\n",
       "      <td>...</td>\n",
       "      <td>...</td>\n",
       "    </tr>\n",
       "    <tr>\n",
       "      <th>638</th>\n",
       "      <td>Kalina Haas</td>\n",
       "      <td>Unknown</td>\n",
       "    </tr>\n",
       "    <tr>\n",
       "      <th>639</th>\n",
       "      <td>Clinton Lau</td>\n",
       "      <td>Unknown</td>\n",
       "    </tr>\n",
       "    <tr>\n",
       "      <th>640</th>\n",
       "      <td>Gengjing Zhao</td>\n",
       "      <td>Unknown</td>\n",
       "    </tr>\n",
       "    <tr>\n",
       "      <th>641</th>\n",
       "      <td>Dan Trowell</td>\n",
       "      <td>Unknown</td>\n",
       "    </tr>\n",
       "    <tr>\n",
       "      <th>642</th>\n",
       "      <td>Mark Cheng</td>\n",
       "      <td>Clatworthy</td>\n",
       "    </tr>\n",
       "  </tbody>\n",
       "</table>\n",
       "<p>643 rows × 2 columns</p>\n",
       "</div>"
      ],
      "text/plain": [
       "                         name             group\n",
       "0    Silvia Benito-Kwiecinski           Unknown\n",
       "1                  Nick Barry  Light Microscopy\n",
       "2               Ben Ravenhill           Unknown\n",
       "3                Isabel Beets           Unknown\n",
       "4       Marios Chatzigeorgiou           Unknown\n",
       "..                        ...               ...\n",
       "638               Kalina Haas           Unknown\n",
       "639               Clinton Lau           Unknown\n",
       "640             Gengjing Zhao           Unknown\n",
       "641               Dan Trowell           Unknown\n",
       "642                Mark Cheng        Clatworthy\n",
       "\n",
       "[643 rows x 2 columns]"
      ]
     },
     "execution_count": 5,
     "metadata": {},
     "output_type": "execute_result"
    }
   ],
   "source": [
    "with BookingDB(db_file) as bookings: \n",
    "    #bookings.cursor.execute('SELECT * from events')\n",
    "    #rows = bookings.cursor.fetchall()\n",
    "    tmp = pd.read_sql_query(\"SELECT users.name as 'name', groups.name as 'group' from users LEFT JOIN groups ON users.group_id=groups.id\", bookings.connection)\n",
    "    #tmp = pd.read_sql_query(\"SELECT * from users\", bookings.connection)\n",
    "    #groups = pd.read_sql_query(\"SELECT * from groups\", bookings.connection)\n",
    "    \n",
    "#users.join(groups,left_on='group_id',right_on='id')\n",
    "#rows[:10]\n",
    "tmp\n"
   ]
  },
  {
   "cell_type": "code",
   "execution_count": null,
   "metadata": {},
   "outputs": [],
   "source": [
    "with BookingDB(db_file) as bookings:\n",
    "    bookings.cursor.execute(\"\"\"SELECT rowid FROM divisions WHERE name=='Cell Biology'\"\"\")\n",
    "    r = bookings.cursor.fetchone()\n",
    "    print(bookings.get_division_id(\"Cell Biology\"))\n"
   ]
  },
  {
   "cell_type": "code",
   "execution_count": null,
   "metadata": {},
   "outputs": [],
   "source": [
    "bookings.cur.execute(\"\"\"SELECT rowid,name FROM booking_types WHERE name=='toto'\"\"\")\n",
    "rows = bookings.cur.fetchall()\n",
    "#rows[0][0]\n",
    "#for row in rows:\n",
    "#    print(row)\n",
    "len(rows)"
   ]
  },
  {
   "cell_type": "code",
   "execution_count": null,
   "metadata": {},
   "outputs": [],
   "source": [
    "try :\n",
    "    bookings.cur.execute('''INSERT INTO booking_types (name) VALUES (?)''', ('service',))\n",
    "except :\n",
    "    pass\n",
    "\n"
   ]
  },
  {
   "cell_type": "code",
   "execution_count": null,
   "metadata": {},
   "outputs": [],
   "source": [
    "bookings.create_booking_types(booking_types)\n"
   ]
  },
  {
   "cell_type": "code",
   "execution_count": null,
   "metadata": {},
   "outputs": [],
   "source": [
    "del bookings"
   ]
  }
 ],
 "metadata": {
  "kernelspec": {
   "display_name": "usagestats",
   "language": "python",
   "name": "python3"
  },
  "language_info": {
   "codemirror_mode": {
    "name": "ipython",
    "version": 3
   },
   "file_extension": ".py",
   "mimetype": "text/x-python",
   "name": "python",
   "nbconvert_exporter": "python",
   "pygments_lexer": "ipython3",
   "version": "3.9.7"
  }
 },
 "nbformat": 4,
 "nbformat_minor": 2
}
