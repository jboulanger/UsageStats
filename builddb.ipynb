{
 "cells": [
  {
   "cell_type": "markdown",
   "metadata": {},
   "source": [
    "# Build the database from calendars"
   ]
  },
  {
   "cell_type": "code",
   "execution_count": 22,
   "metadata": {},
   "outputs": [
    {
     "name": "stdout",
     "output_type": "stream",
     "text": [
      "The autoreload extension is already loaded. To reload it, use:\n",
      "  %reload_ext autoreload\n"
     ]
    }
   ],
   "source": [
    "%load_ext autoreload\n",
    "%autoreload 2"
   ]
  },
  {
   "cell_type": "code",
   "execution_count": 23,
   "metadata": {},
   "outputs": [],
   "source": [
    "from pathlib import Path\n",
    "import pandas as pd\n",
    "\n",
    "# set the folder\n",
    "folder = Path('/run/user/1000/gvfs/smb-share:server=istore,share=microscopy_group_share,user=jeromeb/Admin/Usage Stats/2024')\n",
    "booking_types = ['default','service', 'maintenance', 'training']\n",
    "divisions = ['Unknown','Cell Biology','Neurobiology','PNAS','Structural Studies','University']\n",
    "groups = pd.read_csv(folder/'groups.csv')\n",
    "users = pd.read_csv(folder/'users.csv')\n",
    "calendars = pd.read_csv(folder/'calendars.csv')\n",
    "calendars = calendars.iloc[0:3]\n",
    "# get a cookie from the curl command copied from firefox dev tools\n",
    "with open('cookie.txt','r') as f:\n",
    "    curl_str = f.read()\n",
    "# curl_str = \"curl 'https://mercury.mrc-lmb.cam.ac.uk/ical' --compressed -H 'User-Agent: Mozilla/5.0 (X11; Ubuntu; Linux x86_64; rv:131.0) Gecko/20100101 Firefox/131.0' -H 'Accept: text/html,application/xhtml+xml,application/xml;q=0.9,image/avif,image/webp,image/png,image/svg+xml,*/*;q=0.8' -H 'Accept-Language: en-GB,en;q=0.5' -H 'Accept-Encoding: gzip, deflate, br, zstd' -H 'DNT: 1' -H 'Sec-GPC: 1' -H 'Connection: keep-alive' -H 'Referer: https://mercury.mrc-lmb.cam.ac.uk/integration/linux.html?lang=en' -H 'Cookie: SESSION_CONNECT_WEBMAIL=c3667fe143e2dc76a30611b1072880b836143257f462f6a750e324fdef164259; TOKEN_CONNECT_WEBMAIL=f00b0c6e465aedc5468903660dc514453fcd40ed976cb95f506dfc6f5b3eef14' -H 'Upgrade-Insecure-Requests: 1' -H 'Sec-Fetch-Dest: document' -H 'Sec-Fetch-Mode: navigate' -H 'Sec-Fetch-Site: same-origin' -H 'Sec-Fetch-User: ?1' -H 'Priority: u=0, i'\"\n",
    "# cookie = 'SESSION_CONNECT_WEBMAIL=c3667fe143e2dc76a30611b1072880b836143257f462f6a750e324fdef164259; TOKEN_CONNECT_WEBMAIL=f00b0c6e465aedc5468903660dc514453fcd40ed976cb95f506dfc6f5b3eef14'\n",
    "db_file = 'bookings.db'"
   ]
  },
  {
   "cell_type": "markdown",
   "metadata": {},
   "source": [
    "## Update or initialize the database.\n",
    "\n",
    "- Load all the calendars into the database.\n",
    "- Update users informations"
   ]
  },
  {
   "cell_type": "code",
   "execution_count": null,
   "metadata": {},
   "outputs": [
    {
     "name": "stdout",
     "output_type": "stream",
     "text": [
      "spinning_disk\n"
     ]
    }
   ],
   "source": [
    "from usagestats.bookingdb import BookingDB\n",
    "\n",
    "with BookingDB(db_file, curl_str=curl_str) as bookings:\n",
    "    bookings.create_calendars_from_df(calendars)\n",
    "    bookings.create_instruments()\n",
    "    bookings.create_booking_types(booking_types)\n",
    "    bookings.create_division(divisions)\n",
    "    bookings.create_groups(groups)\n",
    "    df,dup = bookings.create_events()\n",
    "    # df = bookings.update_users_group_from_df(users)\n"
   ]
  },
  {
   "cell_type": "code",
   "execution_count": 28,
   "metadata": {},
   "outputs": [
    {
     "data": {
      "text/plain": [
       "5168"
      ]
     },
     "execution_count": 28,
     "metadata": {},
     "output_type": "execute_result"
    }
   ],
   "source": [
    "len(df)"
   ]
  },
  {
   "cell_type": "code",
   "execution_count": 34,
   "metadata": {},
   "outputs": [
    {
     "data": {
      "text/html": [
       "<div>\n",
       "<style scoped>\n",
       "    .dataframe tbody tr th:only-of-type {\n",
       "        vertical-align: middle;\n",
       "    }\n",
       "\n",
       "    .dataframe tbody tr th {\n",
       "        vertical-align: top;\n",
       "    }\n",
       "\n",
       "    .dataframe thead th {\n",
       "        text-align: right;\n",
       "    }\n",
       "</style>\n",
       "<table border=\"1\" class=\"dataframe\">\n",
       "  <thead>\n",
       "    <tr style=\"text-align: right;\">\n",
       "      <th></th>\n",
       "      <th>guid</th>\n",
       "      <th>user</th>\n",
       "      <th>email</th>\n",
       "      <th>start</th>\n",
       "      <th>end</th>\n",
       "      <th>subject</th>\n",
       "      <th>duration</th>\n",
       "      <th>hours</th>\n",
       "      <th>instrument</th>\n",
       "    </tr>\n",
       "  </thead>\n",
       "  <tbody>\n",
       "    <tr>\n",
       "      <th>748</th>\n",
       "      <td>1bd6da22-7442-4877-99e4-b67e14101ee3</td>\n",
       "      <td>Ana Crespillo</td>\n",
       "      <td>anac@mrc-lmb.cam.ac.uk</td>\n",
       "      <td>2022-02-23 10:01:00+00:00</td>\n",
       "      <td>2022-02-23 14:31:00+00:00</td>\n",
       "      <td>ana 3s135</td>\n",
       "      <td>0 days 04:30:00</td>\n",
       "      <td>4.5</td>\n",
       "      <td>spinning_disk</td>\n",
       "    </tr>\n",
       "    <tr>\n",
       "      <th>3581</th>\n",
       "      <td>51A021B1-3F5B-434A-9E92-27FC3AC85433</td>\n",
       "      <td>Ben Sutcliffe</td>\n",
       "      <td>sutcliff@mrc-lmb.cam.ac.uk</td>\n",
       "      <td>2023-01-10 13:01:00+00:00</td>\n",
       "      <td>2023-01-10 17:01:00+00:00</td>\n",
       "      <td>facility tour</td>\n",
       "      <td>0 days 04:00:00</td>\n",
       "      <td>4.0</td>\n",
       "      <td>zeiss_sim</td>\n",
       "    </tr>\n",
       "    <tr>\n",
       "      <th>3676</th>\n",
       "      <td>E28C7718-05D9-42DB-B55A-77C964A36964</td>\n",
       "      <td>Ben Sutcliffe</td>\n",
       "      <td>sutcliff@mrc-lmb.cam.ac.uk</td>\n",
       "      <td>2023-01-09 16:01:00+00:00</td>\n",
       "      <td>2023-01-09 19:01:00+00:00</td>\n",
       "      <td>facility tour</td>\n",
       "      <td>0 days 03:00:00</td>\n",
       "      <td>3.0</td>\n",
       "      <td>zeiss_sim</td>\n",
       "    </tr>\n",
       "    <tr>\n",
       "      <th>3935</th>\n",
       "      <td>9B4E5561-DD07-402F-BB3F-413CC0ED5B81</td>\n",
       "      <td>Ben Sutcliffe</td>\n",
       "      <td>sutcliff@mrc-lmb.cam.ac.uk</td>\n",
       "      <td>2023-06-30 18:01:00+01:00</td>\n",
       "      <td>2023-07-01 20:01:00+01:00</td>\n",
       "      <td>openday</td>\n",
       "      <td>1 days 02:00:00</td>\n",
       "      <td>26.0</td>\n",
       "      <td>zeiss_sim</td>\n",
       "    </tr>\n",
       "    <tr>\n",
       "      <th>4314</th>\n",
       "      <td>83C7346E-5241-4DE9-AFBA-C9737AD45474</td>\n",
       "      <td>Ben Sutcliffe</td>\n",
       "      <td>sutcliff@mrc-lmb.cam.ac.uk</td>\n",
       "      <td>2022-11-25 16:01:00+00:00</td>\n",
       "      <td>2022-11-26 00:01:00+00:00</td>\n",
       "      <td>maintenance</td>\n",
       "      <td>0 days 08:00:00</td>\n",
       "      <td>8.0</td>\n",
       "      <td>nikon_isim</td>\n",
       "    </tr>\n",
       "    <tr>\n",
       "      <th>4628</th>\n",
       "      <td>4745F794-D617-49A0-9770-1A4ECB008D3B</td>\n",
       "      <td>Ben Sutcliffe</td>\n",
       "      <td>sutcliff@mrc-lmb.cam.ac.uk</td>\n",
       "      <td>2023-08-21 10:01:00+01:00</td>\n",
       "      <td>2023-08-21 19:01:00+01:00</td>\n",
       "      <td>nikon service</td>\n",
       "      <td>0 days 09:00:00</td>\n",
       "      <td>9.0</td>\n",
       "      <td>nikon_isim</td>\n",
       "    </tr>\n",
       "    <tr>\n",
       "      <th>4633</th>\n",
       "      <td>22E40EC1-CB08-4140-8313-2F56E52777FC</td>\n",
       "      <td>Ben Sutcliffe</td>\n",
       "      <td>sutcliff@mrc-lmb.cam.ac.uk</td>\n",
       "      <td>2022-11-28 00:01:00+00:00</td>\n",
       "      <td>2022-11-28 11:01:00+00:00</td>\n",
       "      <td>maintenance</td>\n",
       "      <td>0 days 11:00:00</td>\n",
       "      <td>11.0</td>\n",
       "      <td>nikon_isim</td>\n",
       "    </tr>\n",
       "    <tr>\n",
       "      <th>4723</th>\n",
       "      <td>DC4CABFC-2CC1-4C64-A593-D984EF5149A9</td>\n",
       "      <td>Ben Sutcliffe</td>\n",
       "      <td>sutcliff@mrc-lmb.cam.ac.uk</td>\n",
       "      <td>2022-11-26 00:01:00+00:00</td>\n",
       "      <td>2022-11-27 00:01:00+00:00</td>\n",
       "      <td>maintenance</td>\n",
       "      <td>1 days 00:00:00</td>\n",
       "      <td>24.0</td>\n",
       "      <td>nikon_isim</td>\n",
       "    </tr>\n",
       "    <tr>\n",
       "      <th>5010</th>\n",
       "      <td>E508421F-AACF-493E-9FE2-A6569268FB1D</td>\n",
       "      <td>Ben Sutcliffe</td>\n",
       "      <td>sutcliff@mrc-lmb.cam.ac.uk</td>\n",
       "      <td>2022-11-27 00:01:00+00:00</td>\n",
       "      <td>2022-11-28 00:01:00+00:00</td>\n",
       "      <td>maintenance</td>\n",
       "      <td>1 days 00:00:00</td>\n",
       "      <td>24.0</td>\n",
       "      <td>nikon_isim</td>\n",
       "    </tr>\n",
       "  </tbody>\n",
       "</table>\n",
       "</div>"
      ],
      "text/plain": [
       "                                      guid           user  \\\n",
       "748   1bd6da22-7442-4877-99e4-b67e14101ee3  Ana Crespillo   \n",
       "3581  51A021B1-3F5B-434A-9E92-27FC3AC85433  Ben Sutcliffe   \n",
       "3676  E28C7718-05D9-42DB-B55A-77C964A36964  Ben Sutcliffe   \n",
       "3935  9B4E5561-DD07-402F-BB3F-413CC0ED5B81  Ben Sutcliffe   \n",
       "4314  83C7346E-5241-4DE9-AFBA-C9737AD45474  Ben Sutcliffe   \n",
       "4628  4745F794-D617-49A0-9770-1A4ECB008D3B  Ben Sutcliffe   \n",
       "4633  22E40EC1-CB08-4140-8313-2F56E52777FC  Ben Sutcliffe   \n",
       "4723  DC4CABFC-2CC1-4C64-A593-D984EF5149A9  Ben Sutcliffe   \n",
       "5010  E508421F-AACF-493E-9FE2-A6569268FB1D  Ben Sutcliffe   \n",
       "\n",
       "                           email                     start  \\\n",
       "748       anac@mrc-lmb.cam.ac.uk 2022-02-23 10:01:00+00:00   \n",
       "3581  sutcliff@mrc-lmb.cam.ac.uk 2023-01-10 13:01:00+00:00   \n",
       "3676  sutcliff@mrc-lmb.cam.ac.uk 2023-01-09 16:01:00+00:00   \n",
       "3935  sutcliff@mrc-lmb.cam.ac.uk 2023-06-30 18:01:00+01:00   \n",
       "4314  sutcliff@mrc-lmb.cam.ac.uk 2022-11-25 16:01:00+00:00   \n",
       "4628  sutcliff@mrc-lmb.cam.ac.uk 2023-08-21 10:01:00+01:00   \n",
       "4633  sutcliff@mrc-lmb.cam.ac.uk 2022-11-28 00:01:00+00:00   \n",
       "4723  sutcliff@mrc-lmb.cam.ac.uk 2022-11-26 00:01:00+00:00   \n",
       "5010  sutcliff@mrc-lmb.cam.ac.uk 2022-11-27 00:01:00+00:00   \n",
       "\n",
       "                           end        subject        duration  hours  \\\n",
       "748  2022-02-23 14:31:00+00:00      ana 3s135 0 days 04:30:00    4.5   \n",
       "3581 2023-01-10 17:01:00+00:00  facility tour 0 days 04:00:00    4.0   \n",
       "3676 2023-01-09 19:01:00+00:00  facility tour 0 days 03:00:00    3.0   \n",
       "3935 2023-07-01 20:01:00+01:00        openday 1 days 02:00:00   26.0   \n",
       "4314 2022-11-26 00:01:00+00:00    maintenance 0 days 08:00:00    8.0   \n",
       "4628 2023-08-21 19:01:00+01:00  nikon service 0 days 09:00:00    9.0   \n",
       "4633 2022-11-28 11:01:00+00:00    maintenance 0 days 11:00:00   11.0   \n",
       "4723 2022-11-27 00:01:00+00:00    maintenance 1 days 00:00:00   24.0   \n",
       "5010 2022-11-28 00:01:00+00:00    maintenance 1 days 00:00:00   24.0   \n",
       "\n",
       "         instrument  \n",
       "748   spinning_disk  \n",
       "3581      zeiss_sim  \n",
       "3676      zeiss_sim  \n",
       "3935      zeiss_sim  \n",
       "4314     nikon_isim  \n",
       "4628     nikon_isim  \n",
       "4633     nikon_isim  \n",
       "4723     nikon_isim  \n",
       "5010     nikon_isim  "
      ]
     },
     "execution_count": 34,
     "metadata": {},
     "output_type": "execute_result"
    }
   ],
   "source": [
    "df[df.duplicated('guid')]"
   ]
  },
  {
   "cell_type": "code",
   "execution_count": 35,
   "metadata": {},
   "outputs": [
    {
     "data": {
      "text/plain": [
       "guid          1bd6da22-7442-4877-99e4-b67e14101ee3\n",
       "user                                 Ana Crespillo\n",
       "email                       anac@mrc-lmb.cam.ac.uk\n",
       "start                    2022-02-23 10:01:00+00:00\n",
       "end                      2022-02-23 14:31:00+00:00\n",
       "                              ...                 \n",
       "end                      2022-11-28 00:01:00+00:00\n",
       "subject                                maintenance\n",
       "duration                           1 days 00:00:00\n",
       "hours                                         24.0\n",
       "instrument                              nikon_isim\n",
       "Length: 81, dtype: object"
      ]
     },
     "execution_count": 35,
     "metadata": {},
     "output_type": "execute_result"
    }
   ],
   "source": [
    "dup"
   ]
  },
  {
   "cell_type": "code",
   "execution_count": null,
   "metadata": {},
   "outputs": [],
   "source": [
    "df[df.duplicated('guid')]"
   ]
  },
  {
   "cell_type": "code",
   "execution_count": null,
   "metadata": {},
   "outputs": [],
   "source": [
    "dup"
   ]
  },
  {
   "cell_type": "code",
   "execution_count": null,
   "metadata": {},
   "outputs": [],
   "source": [
    "\n",
    "df[df['guid'].duplicated()]"
   ]
  },
  {
   "cell_type": "code",
   "execution_count": null,
   "metadata": {},
   "outputs": [],
   "source": [
    "with BookingDB(db_file, cookie) as bookings:\n",
    "    print(bookings.cookie)\n",
    "    "
   ]
  },
  {
   "cell_type": "code",
   "execution_count": 105,
   "metadata": {},
   "outputs": [],
   "source": [
    "from urllib import request\n",
    "request.Resques"
   ]
  },
  {
   "cell_type": "code",
   "execution_count": null,
   "metadata": {},
   "outputs": [],
   "source": [
    "from ics import Event\n",
    "?Event"
   ]
  },
  {
   "cell_type": "code",
   "execution_count": null,
   "metadata": {},
   "outputs": [],
   "source": [
    "c.split(' ').index(\"'Cookie: \")"
   ]
  },
  {
   "cell_type": "code",
   "execution_count": null,
   "metadata": {},
   "outputs": [],
   "source": [
    "with BookingDB(db_file) as bookings: \n",
    "    #bookings.cursor.execute('SELECT * from events')\n",
    "    #rows = bookings.cursor.fetchall()\n",
    "    tmp = pd.read_sql_query(\"SELECT users.name as 'name', groups.name as 'group' from users LEFT JOIN groups ON users.group_id=groups.id\", bookings.connection)\n",
    "    #tmp = pd.read_sql_query(\"SELECT * from users\", bookings.connection)\n",
    "    #groups = pd.read_sql_query(\"SELECT * from groups\", bookings.connection)\n",
    "    \n",
    "#users.join(groups,left_on='group_id',right_on='id')\n",
    "#rows[:10]\n",
    "tmp\n"
   ]
  },
  {
   "cell_type": "code",
   "execution_count": null,
   "metadata": {},
   "outputs": [],
   "source": []
  },
  {
   "cell_type": "code",
   "execution_count": null,
   "metadata": {},
   "outputs": [],
   "source": [
    "with BookingDB(db_file) as bookings:\n",
    "    bookings.cursor.execute(\"\"\"SELECT rowid FROM divisions WHERE name=='Cell Biology'\"\"\")\n",
    "    r = bookings.cursor.fetchone()\n",
    "    print(bookings.get_division_id(\"Cell Biology\"))\n"
   ]
  },
  {
   "cell_type": "code",
   "execution_count": null,
   "metadata": {},
   "outputs": [],
   "source": [
    "bookings.cur.execute(\"\"\"SELECT rowid,name FROM booking_types WHERE name=='toto'\"\"\")\n",
    "rows = bookings.cur.fetchall()\n",
    "#rows[0][0]\n",
    "#for row in rows:\n",
    "#    print(row)\n",
    "len(rows)"
   ]
  },
  {
   "cell_type": "code",
   "execution_count": null,
   "metadata": {},
   "outputs": [],
   "source": [
    "try :\n",
    "    bookings.cur.execute('''INSERT INTO booking_types (name) VALUES (?)''', ('service',))\n",
    "except :\n",
    "    pass\n",
    "\n"
   ]
  },
  {
   "cell_type": "code",
   "execution_count": null,
   "metadata": {},
   "outputs": [],
   "source": [
    "bookings.create_booking_types(booking_types)\n"
   ]
  },
  {
   "cell_type": "code",
   "execution_count": null,
   "metadata": {},
   "outputs": [],
   "source": [
    "del bookings"
   ]
  }
 ],
 "metadata": {
  "kernelspec": {
   "display_name": "Python 3",
   "language": "python",
   "name": "python3"
  },
  "language_info": {
   "codemirror_mode": {
    "name": "ipython",
    "version": 3
   },
   "file_extension": ".py",
   "mimetype": "text/x-python",
   "name": "python",
   "nbconvert_exporter": "python",
   "pygments_lexer": "ipython3",
   "version": "3.13.0"
  }
 },
 "nbformat": 4,
 "nbformat_minor": 2
}
