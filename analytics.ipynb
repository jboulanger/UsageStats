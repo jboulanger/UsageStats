{
 "cells": [
  {
   "cell_type": "code",
   "execution_count": 25,
   "metadata": {},
   "outputs": [
    {
     "data": {
      "text/plain": [
       "144"
      ]
     },
     "execution_count": 25,
     "metadata": {},
     "output_type": "execute_result"
    }
   ],
   "source": [
    "from usagestats.bookingdb import BookingDB\n",
    "import pandas as pd\n",
    "\n",
    "db_file = 'bookings.db'\n",
    "start_date = '2022-11-02' # iso-format data yyyy-mm-dd\n",
    "num_weeks = 52 # number of weeks to consider\n",
    "\n",
    "with BookingDB(db_file) as bookings:\n",
    "    #bookings.get_events(start_date, num_weeks)\n",
    "    data = pd.read_sql_query(\"\"\"\n",
    "                            SELECT \n",
    "                             events.duration AS 'hours', \n",
    "                             events.start AS 'start',\n",
    "                             events.end AS 'end',\n",
    "                             users.name AS 'user',\n",
    "                             groups.name AS 'group',\n",
    "                             divisions.name AS 'division'\n",
    "                            FROM events \n",
    "                            INNER JOIN users ON events.user_id=users.id\n",
    "                            INNER JOIN groups ON users.group_id=groups.id\n",
    "                            INNER JOIN divisions ON groups.division_id=divisions.id\n",
    "                            WHERE \n",
    "                                start>date('2022-11-02')\n",
    "                             \"\"\", bookings.connection)\n",
    "len(data['user'].unique())"
   ]
  }
 ],
 "metadata": {
  "kernelspec": {
   "display_name": "usagestats",
   "language": "python",
   "name": "python3"
  },
  "language_info": {
   "codemirror_mode": {
    "name": "ipython",
    "version": 3
   },
   "file_extension": ".py",
   "mimetype": "text/x-python",
   "name": "python",
   "nbconvert_exporter": "python",
   "pygments_lexer": "ipython3",
   "version": "3.9.7"
  }
 },
 "nbformat": 4,
 "nbformat_minor": 2
}
