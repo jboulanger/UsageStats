{
 "cells": [
  {
   "cell_type": "code",
   "execution_count": 1,
   "metadata": {},
   "outputs": [],
   "source": [
    "%load_ext autoreload\n",
    "%autoreload 2"
   ]
  },
  {
   "cell_type": "code",
   "execution_count": 6,
   "metadata": {},
   "outputs": [],
   "source": [
    "from usagestats import data\n",
    "from pathlib import Path\n",
    "from datetime import datetime, timedelta\n",
    "import pandas as pd\n",
    "import matplotlib.pyplot as plt\n",
    "import seaborn as sns\n",
    "\n",
    "start_date = '2022-11-02' # iso-format data yyyy-mm-dd\n",
    "num_weeks = 52 # number of weeks to consider\n",
    "folder = Path('/run/user/1000/gvfs/smb-share:server=istore,share=microscopy_group_share,user=jeromeb/Admin/Usage Stats/2023/')\n",
    "booking_types = ['service', 'maintenance', 'training']\n",
    "db_file = 'bookings.db'"
   ]
  },
  {
   "cell_type": "code",
   "execution_count": 8,
   "metadata": {},
   "outputs": [],
   "source": [
    "from usagestats.bookingdb import BookingDB\n",
    "file_list = [x for x in (folder/'microscope calendars').glob('*.ics')]\n",
    "\n",
    "\n",
    "bookings = BookingDB(db_file)\n",
    "\n",
    "bookings.create_instruments(file_list)\n",
    "bookings.create_booking_types(booking_types)\n",
    "booking.load_calendars()\n"
   ]
  }
 ],
 "metadata": {
  "kernelspec": {
   "display_name": "usagestats",
   "language": "python",
   "name": "python3"
  },
  "language_info": {
   "codemirror_mode": {
    "name": "ipython",
    "version": 3
   },
   "file_extension": ".py",
   "mimetype": "text/x-python",
   "name": "python",
   "nbconvert_exporter": "python",
   "pygments_lexer": "ipython3",
   "version": "3.9.7"
  }
 },
 "nbformat": 4,
 "nbformat_minor": 2
}
