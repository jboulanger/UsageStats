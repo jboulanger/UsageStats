{
 "cells": [
  {
   "cell_type": "markdown",
   "metadata": {},
   "source": [
    "# Build the database from calendars"
   ]
  },
  {
   "cell_type": "code",
   "execution_count": 1,
   "metadata": {},
   "outputs": [],
   "source": [
    "%load_ext autoreload\n",
    "%autoreload 2"
   ]
  },
  {
   "cell_type": "code",
   "execution_count": 31,
   "metadata": {},
   "outputs": [],
   "source": [
    "from pathlib import Path\n",
    "import pandas as pd\n",
    "\n",
    "# set the folder\n",
    "folder = Path('/run/user/1000/gvfs/smb-share:server=istore,share=microscopy_group_share,user=jeromeb/Admin/Usage Stats/2024')\n",
    "booking_types = ['default','service', 'maintenance', 'training']\n",
    "divisions = ['Unknown','Cell Biology','Neurobiology','PNAS','Structural Studies','University']\n",
    "groups = pd.read_csv(folder/'groups.csv')\n",
    "users = pd.read_csv(folder/'users.csv')\n",
    "calendars = pd.read_csv(folder/'calendars.csv')\n",
    "# get a cookie from the curl command copied from firefox dev tools\n",
    "with open('cookie.txt','r') as f:\n",
    "    curl_str = f.read()\n",
    "# curl_str = \"curl 'https://mercury.mrc-lmb.cam.ac.uk/ical' --compressed -H 'User-Agent: Mozilla/5.0 (X11; Ubuntu; Linux x86_64; rv:131.0) Gecko/20100101 Firefox/131.0' -H 'Accept: text/html,application/xhtml+xml,application/xml;q=0.9,image/avif,image/webp,image/png,image/svg+xml,*/*;q=0.8' -H 'Accept-Language: en-GB,en;q=0.5' -H 'Accept-Encoding: gzip, deflate, br, zstd' -H 'DNT: 1' -H 'Sec-GPC: 1' -H 'Connection: keep-alive' -H 'Referer: https://mercury.mrc-lmb.cam.ac.uk/integration/linux.html?lang=en' -H 'Cookie: SESSION_CONNECT_WEBMAIL=c3667fe143e2dc76a30611b1072880b836143257f462f6a750e324fdef164259; TOKEN_CONNECT_WEBMAIL=f00b0c6e465aedc5468903660dc514453fcd40ed976cb95f506dfc6f5b3eef14' -H 'Upgrade-Insecure-Requests: 1' -H 'Sec-Fetch-Dest: document' -H 'Sec-Fetch-Mode: navigate' -H 'Sec-Fetch-Site: same-origin' -H 'Sec-Fetch-User: ?1' -H 'Priority: u=0, i'\"\n",
    "# cookie = 'SESSION_CONNECT_WEBMAIL=c3667fe143e2dc76a30611b1072880b836143257f462f6a750e324fdef164259; TOKEN_CONNECT_WEBMAIL=f00b0c6e465aedc5468903660dc514453fcd40ed976cb95f506dfc6f5b3eef14'\n",
    "db_file = 'bookings.db'"
   ]
  },
  {
   "cell_type": "markdown",
   "metadata": {},
   "source": [
    "## Update or initialize the database.\n",
    "\n",
    "- Load all the calendars into the database."
   ]
  },
  {
   "cell_type": "code",
   "execution_count": 32,
   "metadata": {},
   "outputs": [
    {
     "name": "stdout",
     "output_type": "stream",
     "text": [
      "Analysis PC1\n",
      "Analysis PC2\n",
      "Analysis PC3\n",
      "Analysis PC4\n",
      "Andor BC43\n",
      "Leica SP8\n",
      "Leica STED\n",
      "Nanoimager\n",
      "Nikon HCA\n",
      "Nikon ISIM\n",
      "Nikon NSTORM\n",
      "Nikon TI2\n",
      "Nikon TIRF\n",
      "Nikon W1\n",
      "Olympus VS200\n",
      "Olympus VS200\n",
      "OPM\n",
      "Spinning Disk\n",
      "Zeiss 2p\n",
      "Zeiss 710\n",
      "Zeiss 710 upright\n",
      "Zeiss 780\n",
      "Zeiss 780 UV\n",
      "Zeiss 880 Airyscan\n",
      "Zeiss 900 Airyscan AI\n",
      "Zeiss AxioImager\n",
      "Zeiss Axioplan\n",
      "Zeiss Elyra\n",
      "Zeiss Analysis PC\n"
     ]
    }
   ],
   "source": [
    "from usagestats.bookingdb import BookingDB\n",
    "\n",
    "with BookingDB(db_file, curl_str=curl_str) as bookings:\n",
    "    bookings.create_calendars_from_df(calendars)\n",
    "    bookings.create_instruments()\n",
    "    bookings.create_booking_types(booking_types)\n",
    "    bookings.create_division(divisions)\n",
    "    bookings.create_groups(groups)\n",
    "    df, duplicates = bookings.create_events(users)\n"
   ]
  },
  {
   "cell_type": "markdown",
   "metadata": {},
   "source": [
    "Analysis of duplicates at all time"
   ]
  },
  {
   "cell_type": "code",
   "execution_count": 33,
   "metadata": {},
   "outputs": [
    {
     "data": {
      "text/html": [
       "<div>\n",
       "<style scoped>\n",
       "    .dataframe tbody tr th:only-of-type {\n",
       "        vertical-align: middle;\n",
       "    }\n",
       "\n",
       "    .dataframe tbody tr th {\n",
       "        vertical-align: top;\n",
       "    }\n",
       "\n",
       "    .dataframe thead th {\n",
       "        text-align: right;\n",
       "    }\n",
       "</style>\n",
       "<table border=\"1\" class=\"dataframe\">\n",
       "  <thead>\n",
       "    <tr style=\"text-align: right;\">\n",
       "      <th></th>\n",
       "      <th>count</th>\n",
       "      <th>sum</th>\n",
       "    </tr>\n",
       "    <tr>\n",
       "      <th>user</th>\n",
       "      <th></th>\n",
       "      <th></th>\n",
       "    </tr>\n",
       "  </thead>\n",
       "  <tbody>\n",
       "    <tr>\n",
       "      <th>Ana Crespillo</th>\n",
       "      <td>13</td>\n",
       "      <td>62.5</td>\n",
       "    </tr>\n",
       "    <tr>\n",
       "      <th>Ben Sutcliffe</th>\n",
       "      <td>188</td>\n",
       "      <td>2647.5</td>\n",
       "    </tr>\n",
       "    <tr>\n",
       "      <th>Gerard Crossan</th>\n",
       "      <td>1</td>\n",
       "      <td>3.0</td>\n",
       "    </tr>\n",
       "    <tr>\n",
       "      <th>Nathan Richoz</th>\n",
       "      <td>1</td>\n",
       "      <td>1.0</td>\n",
       "    </tr>\n",
       "    <tr>\n",
       "      <th>Nathaniel Hoyle</th>\n",
       "      <td>1</td>\n",
       "      <td>73.0</td>\n",
       "    </tr>\n",
       "  </tbody>\n",
       "</table>\n",
       "</div>"
      ],
      "text/plain": [
       "                 count     sum\n",
       "user                          \n",
       "Ana Crespillo       13    62.5\n",
       "Ben Sutcliffe      188  2647.5\n",
       "Gerard Crossan       1     3.0\n",
       "Nathan Richoz        1     1.0\n",
       "Nathaniel Hoyle      1    73.0"
      ]
     },
     "execution_count": 33,
     "metadata": {},
     "output_type": "execute_result"
    }
   ],
   "source": [
    "pd.concat(df[df['guid']==x].iloc[0].to_frame().T for x in duplicates).groupby('user')['hours'].agg(['count','sum'])"
   ]
  },
  {
   "cell_type": "markdown",
   "metadata": {},
   "source": [
    "## Update user information"
   ]
  },
  {
   "cell_type": "code",
   "execution_count": 49,
   "metadata": {},
   "outputs": [
    {
     "data": {
      "text/html": [
       "<div>\n",
       "<style scoped>\n",
       "    .dataframe tbody tr th:only-of-type {\n",
       "        vertical-align: middle;\n",
       "    }\n",
       "\n",
       "    .dataframe tbody tr th {\n",
       "        vertical-align: top;\n",
       "    }\n",
       "\n",
       "    .dataframe thead th {\n",
       "        text-align: right;\n",
       "    }\n",
       "</style>\n",
       "<table border=\"1\" class=\"dataframe\">\n",
       "  <thead>\n",
       "    <tr style=\"text-align: right;\">\n",
       "      <th></th>\n",
       "      <th>name</th>\n",
       "      <th>email</th>\n",
       "      <th>group</th>\n",
       "    </tr>\n",
       "  </thead>\n",
       "  <tbody>\n",
       "    <tr>\n",
       "      <th>0</th>\n",
       "      <td>Nathan Richoz</td>\n",
       "      <td>nrichoz@mrc-lmb.cam.ac.uk</td>\n",
       "      <td>Clatworthy</td>\n",
       "    </tr>\n",
       "    <tr>\n",
       "      <th>1</th>\n",
       "      <td>Ben Sutcliffe</td>\n",
       "      <td>sutcliff@mrc-lmb.cam.ac.uk</td>\n",
       "      <td>Light Microscopy</td>\n",
       "    </tr>\n",
       "    <tr>\n",
       "      <th>2</th>\n",
       "      <td>Michal Eisenberg-Bord</td>\n",
       "      <td>michaleb@mrc-lmb.cam.ac.uk</td>\n",
       "      <td>Ramakrishnan L</td>\n",
       "    </tr>\n",
       "    <tr>\n",
       "      <th>3</th>\n",
       "      <td>Antonio Pagan</td>\n",
       "      <td>apagan@mrc-lmb.cam.ac.uk</td>\n",
       "      <td>Ramakrishnan L</td>\n",
       "    </tr>\n",
       "    <tr>\n",
       "      <th>4</th>\n",
       "      <td>Ping-Huang Tsai</td>\n",
       "      <td>phtsai@mrc-lmb.cam.ac.uk</td>\n",
       "      <td>Clatworthy</td>\n",
       "    </tr>\n",
       "    <tr>\n",
       "      <th>...</th>\n",
       "      <td>...</td>\n",
       "      <td>...</td>\n",
       "      <td>...</td>\n",
       "    </tr>\n",
       "    <tr>\n",
       "      <th>692</th>\n",
       "      <td>Elizabeth Miller</td>\n",
       "      <td>emiller@mrc-lmb.cam.ac.uk</td>\n",
       "      <td>Unknown</td>\n",
       "    </tr>\n",
       "    <tr>\n",
       "      <th>693</th>\n",
       "      <td>Sahar Emran</td>\n",
       "      <td>semran@mrc-lmb.cam.ac.uk</td>\n",
       "      <td>Unknown</td>\n",
       "    </tr>\n",
       "    <tr>\n",
       "      <th>694</th>\n",
       "      <td>Paul Edelstein</td>\n",
       "      <td>paule@mrc-lmb.cam.ac.uk</td>\n",
       "      <td>Unknown</td>\n",
       "    </tr>\n",
       "    <tr>\n",
       "      <th>695</th>\n",
       "      <td>Jonathan Shanahan</td>\n",
       "      <td>shanahan@mrc-lmb.cam.ac.uk</td>\n",
       "      <td>Unknown</td>\n",
       "    </tr>\n",
       "    <tr>\n",
       "      <th>696</th>\n",
       "      <td>Jakub Luptak</td>\n",
       "      <td>jluptak@mrc-lmb.cam.ac.uk</td>\n",
       "      <td>Unknown</td>\n",
       "    </tr>\n",
       "  </tbody>\n",
       "</table>\n",
       "<p>697 rows × 3 columns</p>\n",
       "</div>"
      ],
      "text/plain": [
       "                      name                       email             group\n",
       "0            Nathan Richoz   nrichoz@mrc-lmb.cam.ac.uk        Clatworthy\n",
       "1            Ben Sutcliffe  sutcliff@mrc-lmb.cam.ac.uk  Light Microscopy\n",
       "2    Michal Eisenberg-Bord  michaleb@mrc-lmb.cam.ac.uk    Ramakrishnan L\n",
       "3            Antonio Pagan    apagan@mrc-lmb.cam.ac.uk    Ramakrishnan L\n",
       "4          Ping-Huang Tsai    phtsai@mrc-lmb.cam.ac.uk        Clatworthy\n",
       "..                     ...                         ...               ...\n",
       "692       Elizabeth Miller   emiller@mrc-lmb.cam.ac.uk           Unknown\n",
       "693            Sahar Emran    semran@mrc-lmb.cam.ac.uk           Unknown\n",
       "694         Paul Edelstein     paule@mrc-lmb.cam.ac.uk           Unknown\n",
       "695      Jonathan Shanahan  shanahan@mrc-lmb.cam.ac.uk           Unknown\n",
       "696           Jakub Luptak   jluptak@mrc-lmb.cam.ac.uk           Unknown\n",
       "\n",
       "[697 rows x 3 columns]"
      ]
     },
     "execution_count": 49,
     "metadata": {},
     "output_type": "execute_result"
    }
   ],
   "source": [
    "with BookingDB(db_file, curl_str=curl_str) as bookings:\n",
    "    users = bookings.get_users()\n",
    "users"
   ]
  },
  {
   "cell_type": "code",
   "execution_count": 70,
   "metadata": {},
   "outputs": [],
   "source": [
    "with BookingDB(db_file, curl_str=curl_str) as bookings:\n",
    "    bookings.update_users_group_from_df(users)"
   ]
  },
  {
   "cell_type": "code",
   "execution_count": null,
   "metadata": {},
   "outputs": [],
   "source": []
  },
  {
   "cell_type": "code",
   "execution_count": null,
   "metadata": {},
   "outputs": [],
   "source": [
    "with BookingDB(db_file, cookie) as bookings:\n",
    "    print(bookings.cookie)\n",
    "    "
   ]
  },
  {
   "cell_type": "code",
   "execution_count": null,
   "metadata": {},
   "outputs": [],
   "source": [
    "with BookingDB(db_file) as bookings:\n",
    "    bookings.cursor.execute(\"\"\"SELECT rowid FROM divisions WHERE name=='Cell Biology'\"\"\")\n",
    "    r = bookings.cursor.fetchone()\n",
    "    print(bookings.get_division_id(\"Cell Biology\"))\n"
   ]
  },
  {
   "cell_type": "code",
   "execution_count": null,
   "metadata": {},
   "outputs": [],
   "source": [
    "bookings.cur.execute(\"\"\"SELECT rowid,name FROM booking_types WHERE name=='toto'\"\"\")\n",
    "rows = bookings.cur.fetchall()\n",
    "#rows[0][0]\n",
    "#for row in rows:\n",
    "#    print(row)\n",
    "len(rows)"
   ]
  },
  {
   "cell_type": "code",
   "execution_count": null,
   "metadata": {},
   "outputs": [],
   "source": [
    "try :\n",
    "    bookings.cur.execute('''INSERT INTO booking_types (name) VALUES (?)''', ('service',))\n",
    "except :\n",
    "    pass\n",
    "\n"
   ]
  },
  {
   "cell_type": "code",
   "execution_count": null,
   "metadata": {},
   "outputs": [],
   "source": [
    "bookings.create_booking_types(booking_types)\n"
   ]
  },
  {
   "cell_type": "code",
   "execution_count": null,
   "metadata": {},
   "outputs": [],
   "source": [
    "del bookings"
   ]
  }
 ],
 "metadata": {
  "kernelspec": {
   "display_name": "Python 3",
   "language": "python",
   "name": "python3"
  },
  "language_info": {
   "codemirror_mode": {
    "name": "ipython",
    "version": 3
   },
   "file_extension": ".py",
   "mimetype": "text/x-python",
   "name": "python",
   "nbconvert_exporter": "python",
   "pygments_lexer": "ipython3",
   "version": "3.13.0"
  }
 },
 "nbformat": 4,
 "nbformat_minor": 2
}
