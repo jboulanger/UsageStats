{
 "cells": [
  {
   "cell_type": "markdown",
   "metadata": {},
   "source": [
    "# Add new users in the database\n",
    "\n",
    "- Load the data base\n",
    "- Get the unique users for this year and find the on without group\n",
    "- Edit the new users.csv file to add the id of the groups\n",
    "- "
   ]
  },
  {
   "cell_type": "code",
   "execution_count": 29,
   "metadata": {},
   "outputs": [
    {
     "name": "stdout",
     "output_type": "stream",
     "text": [
      "7\n"
     ]
    }
   ],
   "source": [
    "from usagestats.bookingdb import BookingDB\n",
    "from datetime import datetime, timedelta\n",
    "import pytz\n",
    "import pandas as pd\n",
    "\n",
    "db_file = 'bookings.db'\n",
    "\n",
    "local_tz = pytz.timezone(\"Europe/London\")\n",
    "start_date = datetime.fromisoformat('2023-11-02').replace(tzinfo=local_tz)\n",
    "end_date =  start_date + timedelta(weeks=52) # iso-format data yyyy-mm-dd\n",
    "remove_bookings_type = ['service', 'maintenance']\n",
    "remove_instrument = ['Analysis pc1','Analysis pc2' ,'Analysis pc3' ,'Analysis pc4','Zeiss sim analysis pc']\n",
    "\n",
    "with BookingDB(db_file) as db:\n",
    "    bookings = db.get_events_in_range(start_date, end_date)\n",
    "\n",
    "newusers = bookings[bookings['group']=='Unknown'][['user','group','division']].drop_duplicates().reset_index()\n",
    "print(len(newusers))\n",
    "newusers.to_csv('new users.csv')\n"
   ]
  },
  {
   "cell_type": "code",
   "execution_count": 28,
   "metadata": {},
   "outputs": [],
   "source": [
    "with BookingDB(db_file) as db:\n",
    "    groups = pd.read_sql_query(\"SELECT id, name FROM groups\",db.connection)\n",
    "    \n",
    "newusers = pd.read_csv('new users.csv',index_col=0)\n",
    "newusers['group'] = [groups[groups['id']==x].iloc[0]['name'] for x in newusers['group']]\n",
    "with BookingDB(db_file) as db:\n",
    "    db.update_users_group_from_df(newusers)"
   ]
  }
 ],
 "metadata": {
  "kernelspec": {
   "display_name": "Python 3",
   "language": "python",
   "name": "python3"
  },
  "language_info": {
   "codemirror_mode": {
    "name": "ipython",
    "version": 3
   },
   "file_extension": ".py",
   "mimetype": "text/x-python",
   "name": "python",
   "nbconvert_exporter": "python",
   "pygments_lexer": "ipython3",
   "version": "3.13.0"
  }
 },
 "nbformat": 4,
 "nbformat_minor": 2
}
