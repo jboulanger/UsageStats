{
 "cells": [
  {
   "cell_type": "markdown",
   "metadata": {},
   "source": [
    "# Compile usage analytics from a booking calendar\n",
    "\n",
    "Plot usage stats by user for the year\n",
    "\n",
    "Usage: \n",
    "- Set the list of files and the starting date and run the notebook\n",
    "- Check if there are no unknown group for the user, edit the users.csv file to update it if needed and run again the notebook. "
   ]
  },
  {
   "cell_type": "code",
   "execution_count": null,
   "metadata": {},
   "outputs": [],
   "source": [
    "%load_ext autoreload\n",
    "%autoreload 2"
   ]
  },
  {
   "cell_type": "code",
   "execution_count": null,
   "metadata": {},
   "outputs": [],
   "source": [
    "from usagestats import data\n",
    "from pathlib import Path\n",
    "from datetime import datetime, timedelta\n",
    "import pandas as pd\n",
    "import matplotlib.pyplot as plt\n",
    "import seaborn as sns\n",
    "\n",
    "start_date = '2022-11-02' # iso-format data yyyy-mm-dd\n",
    "num_weeks = 52 # number of weeks to consider\n",
    "folder = Path('/run/user/1000/gvfs/smb-share:server=istore,share=microscopy_group_share,user=jeromeb/Admin/Usage Stats/2023/')\n",
    "file_list = [x for x in (folder/'microscope calendars').glob('*.ics')]\n",
    "instrument_file = folder / 'instrument.csv'\n",
    "users_file = folder / 'users.csv'\n",
    "groups_file = folder / 'groups.csv'\n",
    "bookings_file = folder / 'bookings.csv'\n",
    "booking_types = ['service', 'maintenance', 'training']\n",
    "remove_bookings_type = ['service', 'maintenance']\n",
    "remove_instrument = ['Analysis pc1','Analysis pc2' ,'Analysis pc3' ,'Analysis pc4','Zeiss sim analysis pc']"
   ]
  },
  {
   "cell_type": "markdown",
   "metadata": {},
   "source": [
    "## Setting and loading the dataset"
   ]
  },
  {
   "cell_type": "code",
   "execution_count": null,
   "metadata": {},
   "outputs": [],
   "source": [
    "instruments = data.load_instruments(file_list)"
   ]
  },
  {
   "cell_type": "code",
   "execution_count": null,
   "metadata": {},
   "outputs": [],
   "source": [
    "instruments.sort_values(by='Instrument')"
   ]
  },
  {
   "cell_type": "code",
   "execution_count": null,
   "metadata": {},
   "outputs": [],
   "source": [
    "# use the widget values\n",
    "bookings = data.load_booking(instruments, booking_types)\n",
    "bookings.head()"
   ]
  },
  {
   "cell_type": "code",
   "execution_count": null,
   "metadata": {},
   "outputs": [],
   "source": [
    "bookings = data.filter_dates(bookings, start_date, num_weeks)"
   ]
  },
  {
   "cell_type": "markdown",
   "metadata": {},
   "source": [
    "## Create a list of all users and groups and save it to a file\n",
    "\n",
    "This also add the Group column to the bookings. At this point, we can edit the user.csv file and run this cell again."
   ]
  },
  {
   "cell_type": "code",
   "execution_count": null,
   "metadata": {},
   "outputs": [],
   "source": [
    "instruments = pd.DataFrame({\"Instrument\":bookings[\"Instrument\"].unique()})\n",
    "users = data.load_users(bookings, users_file)\n",
    "users.to_csv(users_file, index=False)\n",
    "print(f'There were {len(users)} unique users on {len(instruments)} instruments')\n",
    "[x for x in users[users['Group']=='Unknown']['User']]"
   ]
  },
  {
   "cell_type": "code",
   "execution_count": null,
   "metadata": {},
   "outputs": [],
   "source": [
    "# from the list of users get the list of groups\n",
    "groups = data.load_groups(users, groups_file)\n",
    "# save file to disk\n",
    "groups.to_csv(groups_file,index=False)\n",
    "#print(f'There are {len(groups)} groups')\n",
    "groups[groups['Division']=='Unknown']"
   ]
  },
  {
   "cell_type": "markdown",
   "metadata": {},
   "source": [
    "## Add group and division to the booking"
   ]
  },
  {
   "cell_type": "code",
   "execution_count": null,
   "metadata": {},
   "outputs": [],
   "source": [
    "bookings = pd.merge(bookings, users, left_on='User', right_on='User', how='left')\n",
    "bookings = pd.merge(bookings, groups, on='Group', how='left')\n",
    "bookings.head()"
   ]
  },
  {
   "cell_type": "code",
   "execution_count": null,
   "metadata": {},
   "outputs": [],
   "source": [
    "bookings.to_csv(bookings_file)"
   ]
  },
  {
   "cell_type": "markdown",
   "metadata": {},
   "source": [
    "## Counts and usage by type of booking"
   ]
  },
  {
   "cell_type": "code",
   "execution_count": null,
   "metadata": {},
   "outputs": [],
   "source": [
    "bookings.groupby('Type').agg(Hours=pd.NamedAgg(column=\"Hours\", aggfunc=\"sum\"),\n",
    "                             Count=pd.NamedAgg(column=\"Hours\", aggfunc=\"count\"))"
   ]
  },
  {
   "cell_type": "code",
   "execution_count": null,
   "metadata": {},
   "outputs": [],
   "source": [
    "ti = bookings.groupby(['Type','Instrument'],as_index=False).agg(Hours=pd.NamedAgg(column=\"Hours\", aggfunc=\"sum\"),\n",
    "                                        Count=pd.NamedAgg(column=\"Hours\", aggfunc=\"count\")).pivot('Instrument','Type','Hours')\n",
    "ti.to_csv(folder / 'booking-by-type-and-instrument.csv')\n",
    "\n",
    "ti.plot(kind='bar',stacked=True)\n",
    "plt.legend(bbox_to_anchor=(1,0.75))\n",
    "plt.title('Hours per type of bookings and instrument')\n",
    "plt.savefig(folder/'usage-per-type-per-instrument.pdf',pad_inches=1.2,bbox_inches='tight')\n"
   ]
  },
  {
   "cell_type": "markdown",
   "metadata": {},
   "source": [
    "## Filter out bookings to eliminate unwanted entries"
   ]
  },
  {
   "cell_type": "code",
   "execution_count": null,
   "metadata": {},
   "outputs": [],
   "source": [
    "# excludes special bookings\n",
    "bookings = bookings[ ~bookings['Type'].isin( remove_bookings_type ) ]\n",
    "# excludes instruments\n",
    "bookings = bookings[~bookings.Instrument.isin( remove_instrument )]\n",
    "bookings.head()"
   ]
  },
  {
   "cell_type": "code",
   "execution_count": null,
   "metadata": {},
   "outputs": [],
   "source": [
    "total_usage_hrs = bookings['Hours'].sum()\n",
    "\n",
    "info_str = f'\\nFrom {datetime.fromisoformat(start_date)} to {datetime.fromisoformat(start_date)+timedelta(weeks=num_weeks)}\\nGrand total: {total_usage_hrs:.0f} Hours\\n #Users: {len(users)} / #Groups: {len(groups)} / #Instruments: {len(instruments)}'\n",
    "print(info_str)"
   ]
  },
  {
   "cell_type": "markdown",
   "metadata": {},
   "source": [
    "## Usage per groups"
   ]
  },
  {
   "cell_type": "code",
   "execution_count": null,
   "metadata": {},
   "outputs": [],
   "source": [
    "from usagestats import visual\n",
    "ax = sns.barplot(data=pd.merge(users,groups,on='Group').groupby('Division').count().reset_index().sort_values('User',ascending=False),y='Division',x='User')\n",
    "visual.show_values_on_bars(ax,'h',hspace=0.4)\n",
    "plt.xlabel('Number of users')\n",
    "plt.title('Number of users per division'+info_str)\n",
    "plt.savefig(folder/'users-per-division.pdf',pad_inches=1.2,bbox_inches='tight')"
   ]
  },
  {
   "cell_type": "code",
   "execution_count": null,
   "metadata": {},
   "outputs": [],
   "source": [
    "import math\n",
    "#bookings.groupby(['Group','Instrument'], as_index=False)['Hours'].agg('sum').pivot(index=\"Group\",columns=\"Instrument\",values='Hours').fillna(0).to_csv('usage-per-group-per-instrument.csv')\n",
    "f,x = plt.subplots(figsize=(10,10))\n",
    "tmp = bookings.groupby(['Group','Instrument'], as_index=False)['Hours'].agg('sum')\n",
    "tmp['Hours'] = [math.log10(x) for x in tmp['Hours']]\n",
    "cmap = sns.color_palette(\"viridis\", as_cmap=True)\n",
    "#order = tmp.groupby('Group').agg(time=('Hours',sum)).sort_values('time',ascending=False).index.values\n",
    "sns.scatterplot(data=tmp, x='Instrument', y='Group', size='Hours', hue='Hours',palette=cmap)\n",
    "plt.xticks(rotation=90)\n",
    "plt.title('Usage per Group and per Instrument (excluding service, maintenance and PCs)\\n Logarithmic scale')\n",
    "plt.legend(title=\"Log Hours\")\n",
    "plt.savefig(folder/'usage-per-group-per-instrument.pdf',pad_inches=1.2,bbox_inches='tight')\n"
   ]
  },
  {
   "cell_type": "code",
   "execution_count": null,
   "metadata": {},
   "outputs": [],
   "source": [
    "import numpy as np\n",
    "df = bookings.groupby(['Group'],as_index=False).agg('sum')\n",
    "grp_order = np.flip(df['Hours'].to_numpy().argsort())\n",
    "f, ax = plt.subplots(figsize=(6, 10))\n",
    "sns.barplot(data=df,y='Group',x='Hours',order=df['Group'][grp_order])\n",
    "visual.show_values_on_bars(ax,'h',hspace=0.25)\n",
    "plt.title(f'Total usage per group (excluding service, maintenance and PCs)'+info_str)\n",
    "plt.xlim([0, 1.2*df['Hours'].max()])\n",
    "plt.savefig(folder/'usage-per-group.pdf',pad_inches=1.2,bbox_inches='tight')"
   ]
  },
  {
   "cell_type": "markdown",
   "metadata": {},
   "source": [
    "## Statistics per division"
   ]
  },
  {
   "cell_type": "code",
   "execution_count": null,
   "metadata": {},
   "outputs": [],
   "source": [
    "# Sum usage hours per division\n",
    "per_division = bookings.groupby(['Division'],as_index=False)['Hours'].agg('sum')\n",
    "grp_order = np.flip(per_division ['Hours'].to_numpy().argsort())\n",
    "f, ax = plt.subplots(figsize=(6, 10))\n",
    "sns.barplot(data=per_division ,y='Division',x='Hours',order=per_division['Division'][grp_order])\n",
    "visual.show_values_on_bars(ax,'h')\n",
    "total_usage_hrs = bookings['Hours'].sum()\n",
    "plt.title(f'Total hours per division (excluding service, maintenance and PCs)'+info_str)\n",
    "plt.xlim([0, 1.2*per_division['Hours'].max()])\n",
    "plt.xlabel('Total usage [Hours]')\n",
    "plt.savefig('usage-per-division.pdf',pad_inches=1.2,bbox_inches='tight')"
   ]
  },
  {
   "cell_type": "markdown",
   "metadata": {},
   "source": [
    "## Compute Usage for each week and each instrument"
   ]
  },
  {
   "cell_type": "code",
   "execution_count": null,
   "metadata": {},
   "outputs": [],
   "source": [
    "usage = data.get_usage_by_instrument(bookings, start_date=start_date, num_weeks=num_weeks)"
   ]
  },
  {
   "cell_type": "code",
   "execution_count": null,
   "metadata": {},
   "outputs": [],
   "source": [
    "usage"
   ]
  },
  {
   "cell_type": "code",
   "execution_count": null,
   "metadata": {},
   "outputs": [],
   "source": [
    "plt.figure(figsize=(20,10))\n",
    "sns.scatterplot(data=usage[usage['Usage']>0].sort_values('Instrument'),x='Week',y='Instrument',hue='Usage',size='Usage')\n",
    "plt.legend(bbox_to_anchor=(1,0.7))\n",
    "plt.title('Usage per week and per instrument (excluding service, maintenance and PCs)'+info_str)\n",
    "plt.savefig(folder/'usage-per-instrument-per-week-blot.pdf',pad_inches=1.2,bbox_inches='tight')"
   ]
  },
  {
   "cell_type": "code",
   "execution_count": null,
   "metadata": {},
   "outputs": [],
   "source": [
    "import numpy as np\n",
    "# figure for each instruments\n",
    "plt.figure(figsize=(30,20))\n",
    "col_order = [*usage['Instrument'].unique()]\n",
    "col_order.sort()\n",
    "g = sns.FacetGrid(usage, col=\"Instrument\",col_wrap=4,col_order=col_order)\n",
    "p = g.map(sns.barplot,\"Week\",\"Usage\",order=np.arange(num_weeks))\n",
    "averages = usage.groupby('Instrument')['Usage'].agg(['mean'])\n",
    "avg_global = averages.mean()[0]\n",
    "\n",
    "for k, a in enumerate(p.axes):\n",
    "    mic = a.get_title().replace('Instrument = ','')\n",
    "    avg = averages['mean'][mic]\n",
    "    a.set_title(f'{mic} ({avg:.0f}h/w)')\n",
    "    #a.text(15,130,f'average:{avg:.0f}h/w')\n",
    "    #a.set_subtitle(f'average:{avg:.0f}h/w')\n",
    "    a.axhline(avg_global, color='r', linestyle='-')\n",
    "    a.axhline(avg, color='g', linestyle='-')\n",
    "    a.set_ylabel('Usage [Hours/Week]')\n",
    "    a.set_xticks(np.arange(0,num_weeks,step=10))\n",
    "    a.set_xticklabels(np.arange(0,num_weeks,step=10))\n",
    "p.fig.subplots_adjust(top=0.9)\n",
    "p.fig.suptitle('Usage per week and per instrument (excluding service, maintenance and PCs)'+info_str)\n",
    "plt.savefig(folder/'usage-per-instrument-per-week.pdf')\n"
   ]
  },
  {
   "cell_type": "markdown",
   "metadata": {},
   "source": [
    "Save usage to a csv file"
   ]
  },
  {
   "cell_type": "code",
   "execution_count": null,
   "metadata": {},
   "outputs": [],
   "source": [
    "# Save the data in a file\n",
    "usage.pivot(index=\"Week\",columns=\"Instrument\",values=\"Usage\").to_csv(folder/'usage-per-instrument-per-week.csv')"
   ]
  },
  {
   "cell_type": "markdown",
   "metadata": {},
   "source": [
    "# Per instrument"
   ]
  },
  {
   "cell_type": "code",
   "execution_count": null,
   "metadata": {},
   "outputs": [],
   "source": [
    "per_inst = bookings.groupby('Instrument',as_index=False).agg(total=('Hours',sum)).sort_values(by='total',ascending=False)\n",
    "f, ax = plt.subplots(figsize=(6, 10))\n",
    "sns.barplot(data=per_inst, y='Instrument',x='total')\n",
    "plt.savefig(folder/'usage-per-instrument.pdf')"
   ]
  },
  {
   "cell_type": "markdown",
   "metadata": {},
   "source": [
    "# Per User"
   ]
  },
  {
   "cell_type": "code",
   "execution_count": null,
   "metadata": {},
   "outputs": [],
   "source": [
    "per_user = bookings.groupby('User',as_index=False).agg(total=('Hours',sum)).sort_values(by='total',ascending=False)\n",
    "f, ax = plt.subplots(figsize=(6, 10))\n",
    "sns.barplot(data=per_user.iloc[0:20], y='User',x='total')\n",
    "plt.savefig(folder/'user.pdf')"
   ]
  }
 ],
 "metadata": {
  "interpreter": {
   "hash": "de79715f9c4194c3c7c6104090a45920f7e546a5b3b8a6d118865ed18b07dca5"
  },
  "kernelspec": {
   "display_name": "usagestats",
   "language": "python",
   "name": "python3"
  },
  "language_info": {
   "codemirror_mode": {
    "name": "ipython",
    "version": 3
   },
   "file_extension": ".py",
   "mimetype": "text/x-python",
   "name": "python",
   "nbconvert_exporter": "python",
   "pygments_lexer": "ipython3",
   "version": "3.9.7"
  }
 },
 "nbformat": 4,
 "nbformat_minor": 4
}
