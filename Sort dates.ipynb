{
 "cells": [
  {
   "cell_type": "markdown",
   "metadata": {},
   "source": [
    "# Sort bookings files by date"
   ]
  },
  {
   "cell_type": "code",
   "execution_count": 3,
   "metadata": {},
   "outputs": [],
   "source": [
    "import pandas as pd\n",
    "import glob\n",
    "import datetime"
   ]
  },
  {
   "cell_type": "code",
   "execution_count": 17,
   "metadata": {},
   "outputs": [],
   "source": [
    "  \n",
    "def load_file(filename):\n",
    "    \"\"\"Load a xlsx file with booking information\"\"\"\n",
    "    bookings = pd.read_excel(filename)\n",
    "    bookings = bookings[~bookings['Start'].isna()]\n",
    "    bookings = bookings[bookings['Start'] != 'Start']\n",
    "    bookings['Start'] = pd.to_datetime(bookings['Start'],format='%a %d/%m/%Y %H:%M')\n",
    "    bookings['End'] = pd.to_datetime(bookings['End'],format='%a %d/%m/%Y %H:%M')    \n",
    "    return bookings\n",
    "\n",
    "l = []\n",
    "for f in glob.glob('rooms/*.xlsx'):    \n",
    "    l.append(f)\n",
    "    b = load_file(f)\n",
    "    b.sort_values('Start',inplace=True)        \n",
    "    b.to_csv(f.replace('.xlsx','-sorted.csv'),index=False, date_format='%a %d/%m/%Y %H:%M')        \n"
   ]
  }
 ],
 "metadata": {
  "interpreter": {
   "hash": "de79715f9c4194c3c7c6104090a45920f7e546a5b3b8a6d118865ed18b07dca5"
  },
  "kernelspec": {
   "display_name": "Python 3.9.7 64-bit ('usagestats': conda)",
   "language": "python",
   "name": "python3"
  },
  "language_info": {
   "codemirror_mode": {
    "name": "ipython",
    "version": 3
   },
   "file_extension": ".py",
   "mimetype": "text/x-python",
   "name": "python",
   "nbconvert_exporter": "python",
   "pygments_lexer": "ipython3",
   "version": "3.9.7"
  },
  "orig_nbformat": 4
 },
 "nbformat": 4,
 "nbformat_minor": 2
}
